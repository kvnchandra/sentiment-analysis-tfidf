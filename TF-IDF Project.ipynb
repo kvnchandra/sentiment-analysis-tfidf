{
 "cells": [
  {
   "cell_type": "markdown",
   "metadata": {},
   "source": [
    "# **Kevin Chandra**"
   ]
  },
  {
   "cell_type": "markdown",
   "metadata": {},
   "source": [
    "#### **FGA - DTS Unhas Artificial Intelligence Batch 2**"
   ]
  },
  {
   "cell_type": "markdown",
   "metadata": {},
   "source": [
    "## **Final Project**"
   ]
  },
  {
   "cell_type": "markdown",
   "metadata": {},
   "source": [
    "# **TF-IDF (Term Frequency - Inverse Document Frequency)**"
   ]
  },
  {
   "cell_type": "markdown",
   "metadata": {},
   "source": [
    "**TF - IDF** yang merupakan singkatan dari **Term Frequency - Inverse Document Frequency** adalah metode statistik numerikal yang berfungsi untuk mengetahui pentingnya suatu kata terhadap dokumen dalam sebuah collection atau corpus. Algoritma ini sering digunakan sebagai pembobot dalam pencarian informasi, text mining dan user modelling."
   ]
  },
  {
   "cell_type": "markdown",
   "metadata": {},
   "source": [
    "Ragam dari skema pembobotan dari TF - IDF sering digunakan oleh mesin pencari sebagai alat utama dalam penilaian dan pemeringkatan dokumen yang sesuai dengan permintaan pengguna. TF - IDF dapat digunakan dengan baik pada penyaringan stop-words di berbagai bidang, termasuk text summarization dan klasifikasi."
   ]
  },
  {
   "cell_type": "markdown",
   "metadata": {},
   "source": [
    "#### **TF ( Term Frequency )**"
   ]
  },
  {
   "cell_type": "markdown",
   "metadata": {},
   "source": [
    "Term Frequency adalah frekuensi kemunculan sebuah term atau kata dalam dokumen yang bersangkutan. Semakin besar jumlah kemunculan suatu term dalam dsebuah dokumen, maka semakin besar bobot kesesuaian yang akan diberikan."
   ]
  },
  {
   "cell_type": "markdown",
   "metadata": {},
   "source": [
    "Terdapat beberapa skema pembobotan pada TF (Term Frequency), yaitu :\n",
    "- **TF Biner (Binary TF)** merupakan pembobotan yang bernilai 1 jika term atau kata ditemukan di dalam dokumen, dan bernilai 0 jika term atau kata tidak ditemukan di dalam dokumen.\n",
    "\n",
    "- **TF Murni (Raw TF)** merupakan pembobotan berdasarkan jumlah kemunculan suatu term pada dokumen. Misalkan jika ada 10 kali suatu kata muncul pada dokumen, maka nilainya adalah 10.\n",
    "\n",
    "- **TF Logaritmik (Log Normalization)** merupakan pembobotan dengan menggunakan fungsi logaritma yaitu :\n",
    "\n",
    "<img src=\"TF Logaritmik.png\" style=\"width:300px\"/>\n",
    "\n",
    "- **TF Normalisasi** merupakan pembobotan dengan menggunakan perbandingan antara frekuensi suatu term dengan nilai maksimum dari keseluruhan atau kumpulan frekuensi term yang ada pada suatu dokumen\n",
    "\n",
    "<img src=\"TF Normalisasi.png\" style=\"width:300px\"/>"
   ]
  },
  {
   "cell_type": "markdown",
   "metadata": {},
   "source": [
    "#### **IDF ( Inverse Document Frequency )**"
   ]
  },
  {
   "cell_type": "markdown",
   "metadata": {},
   "source": [
    "Inverse Document Frequency adalah perhitungan seberapa banyak informasi yang diberikan oleh suatu kata misalnya seperti seberapa sering atau jarang kata tersebut ditemukan pada suatu dokumen. Perhitungan IDF menggunakan skala logaritmik seperti pada rumus di bawah :\n",
    "\n",
    "<img src=\"IDF.png\" style=\"width:300px\"/>"
   ]
  },
  {
   "cell_type": "markdown",
   "metadata": {},
   "source": [
    "Dimana nilai idf sama dengan nilai logaritma dari pembagian jumlah dokumen (N) atas jumlah dokumen yang terdapat term (kata) yang dimaksud."
   ]
  },
  {
   "cell_type": "markdown",
   "metadata": {},
   "source": [
    "#### **TF - IDF**"
   ]
  },
  {
   "cell_type": "markdown",
   "metadata": {},
   "source": [
    "Setelah menghitung nilai tf dan idf dari suatu term, maka untuk menghitung nilai tf-idf nya adalah :\n",
    "\n",
    "<img src=\"TF - IDF.png\" style=\"width:350px\"/>"
   ]
  },
  {
   "cell_type": "markdown",
   "metadata": {},
   "source": [
    "Nilai tf-idf yang tinggi dapat diperoleh jika nilai tf (jumlah kata yang ditemukan pada suatu dokumen) bernilai besar dan nilai idf yang besar(term ditemukan pada sedikit dokumen)"
   ]
  },
  {
   "cell_type": "markdown",
   "metadata": {},
   "source": [
    "## **Studi Kasus**"
   ]
  },
  {
   "cell_type": "markdown",
   "metadata": {},
   "source": [
    "Dalam project ini, akan didemokan penggunaan tf-idf untuk mengubah data training menjadi vektor yang kemudian ditraining menggunakan algoritma Multi Layer Perceptron (Neural Network) untuk proses klasifikasi sentimen.\n",
    "\n",
    "Input : Pada project ini, input data yang dimiliki berupa teks baik dalam bentuk kalimat maupun paragraf.\n",
    "\n",
    "Output : Setelah input diberikan, maka model nantinya akan menentukan atau menglasifikasikan input tersebut ke dalam salah satu dari kelas **Positif** atau **Negatif**."
   ]
  },
  {
   "cell_type": "markdown",
   "metadata": {},
   "source": [
    "## **1. Mengunduh Dataset**"
   ]
  },
  {
   "cell_type": "markdown",
   "metadata": {},
   "source": [
    "Dataset yang digunakan adalah dataset **Large Movie Review** yang merupakan dataset klasifikasi sentimen biner yang menyediakan 25,000 data review sebuah film untuk training dan 25,000 untuk testing. Dataset tersedia pada : http://ai.stanford.edu/~amaas/data/sentiment/aclImdb_v1.tar.gz"
   ]
  },
  {
   "cell_type": "markdown",
   "metadata": {},
   "source": [
    "Setelah file didownload, maka perlu di-extract terlebih dahulu dan ditempatkan pada folder yang sama dengan file ini."
   ]
  },
  {
   "cell_type": "markdown",
   "metadata": {},
   "source": [
    "## **2. Memuat Module yang Dibutuhkan**"
   ]
  },
  {
   "cell_type": "code",
   "execution_count": 1,
   "metadata": {},
   "outputs": [],
   "source": [
    "import os\n",
    "import numpy as np\n",
    "import tensorflow as tf\n",
    "import matplotlib.pyplot as plt\n",
    "\n",
    "from sklearn.feature_extraction.text import CountVectorizer\n",
    "from sklearn.feature_extraction.text import TfidfVectorizer\n",
    "from sklearn.feature_selection import SelectKBest\n",
    "from sklearn.feature_selection import f_classif\n",
    "\n",
    "from tensorflow.python.keras import models\n",
    "from tensorflow.python.keras.layers import Dense\n",
    "from tensorflow.python.keras.layers import Dropout"
   ]
  },
  {
   "cell_type": "markdown",
   "metadata": {},
   "source": [
    "## **3. Mengeksplor Dataset**"
   ]
  },
  {
   "cell_type": "markdown",
   "metadata": {},
   "source": [
    "Untuk memulai mengeksplor data, terlebih dahulu kita perlu memuat dataset."
   ]
  },
  {
   "cell_type": "code",
   "execution_count": 2,
   "metadata": {},
   "outputs": [],
   "source": [
    "X_train = []\n",
    "y_train = []\n",
    "X_test = []\n",
    "y_test = []"
   ]
  },
  {
   "cell_type": "code",
   "execution_count": 3,
   "metadata": {},
   "outputs": [],
   "source": [
    "# Load the dataset\n",
    "for dataset in ['train', 'test']:\n",
    "    for category in ['pos', 'neg']:\n",
    "        dataset_path = os.path.join('aclImdb', dataset, category)\n",
    "        for fname in sorted(os.listdir(dataset_path)):\n",
    "            if fname.endswith('.txt'):\n",
    "                with open(os.path.join(dataset_path, fname), encoding='utf8') as f:\n",
    "                    if dataset == 'train': X_train.append(f.read())\n",
    "                    else: X_test.append(f.read())\n",
    "                label = 0 if category == 'neg' else 1\n",
    "                if dataset == 'train': y_train.append(label)\n",
    "                else: y_test.append(label)"
   ]
  },
  {
   "cell_type": "code",
   "execution_count": 4,
   "metadata": {},
   "outputs": [],
   "source": [
    "# Converting to np.array\n",
    "X_train = np.array(X_train)\n",
    "y_train = np.array(y_train)\n",
    "X_test = np.array(X_test)\n",
    "y_test = np.array(y_test)"
   ]
  },
  {
   "cell_type": "code",
   "execution_count": 5,
   "metadata": {},
   "outputs": [],
   "source": [
    "def shuffle(X, y):\n",
    "    perm = np.random.permutation(len(X))\n",
    "    X = X[perm]\n",
    "    y = y[perm]\n",
    "    return X, y"
   ]
  },
  {
   "cell_type": "code",
   "execution_count": 6,
   "metadata": {},
   "outputs": [],
   "source": [
    "# Shuffle the dataset\n",
    "X_train, y_train = shuffle(X_train, y_train)\n",
    "X_test, y_test = shuffle(X_test, y_test)"
   ]
  },
  {
   "cell_type": "markdown",
   "metadata": {},
   "source": [
    "Setelah memuat data menjadi data training dan data testing, selanjutnya perlu diketahui ukuran dari data training dan data testing yang diperoleh."
   ]
  },
  {
   "cell_type": "code",
   "execution_count": 7,
   "metadata": {},
   "outputs": [
    {
     "name": "stdout",
     "output_type": "stream",
     "text": [
      "Train samples shape : (24321,)\n",
      "Train labels shape  : (24321,)\n",
      "Test samples shape  : (25000,)\n",
      "Test labels shape   : (25000,)\n"
     ]
    }
   ],
   "source": [
    "print ('Train samples shape :', X_train.shape)\n",
    "print ('Train labels shape  :', y_train.shape)\n",
    "print ('Test samples shape  :', X_test.shape)\n",
    "print ('Test labels shape   :', y_test.shape)"
   ]
  },
  {
   "cell_type": "markdown",
   "metadata": {},
   "source": [
    "Untuk mengetahui banyak kelas atau kategori label dan mengetahui penyebaran data, dilakukan seperti berikut :"
   ]
  },
  {
   "cell_type": "code",
   "execution_count": 8,
   "metadata": {},
   "outputs": [
    {
     "name": "stdout",
     "output_type": "stream",
     "text": [
      "Unique classes : [0 1]\n",
      "Number of unique classes :  2\n",
      "Counts for class  0  :  12500\n",
      "Counts for class  1  :  11821\n"
     ]
    }
   ],
   "source": [
    "uniq_class_arr, counts = np.unique(y_train, return_counts=True)\n",
    "\n",
    "print ('Unique classes :', uniq_class_arr)\n",
    "print ('Number of unique classes : ', len(uniq_class_arr))\n",
    "\n",
    "for _class in uniq_class_arr:\n",
    "    print ('Counts for class ', uniq_class_arr[_class], ' : ', counts[_class])"
   ]
  },
  {
   "cell_type": "markdown",
   "metadata": {},
   "source": [
    "Setelah memuat dataset yang akan digunakan dan membaginya ke dalam data training dan data testing, maka kita akan mengecek beberapa data yang dimiliki."
   ]
  },
  {
   "cell_type": "code",
   "execution_count": 9,
   "metadata": {},
   "outputs": [
    {
     "name": "stdout",
     "output_type": "stream",
     "text": [
      "============================================================\n",
      "The original was a good movie. I bought it on tape and have watched it several times. And though I know that sequels are not usually as good as the original I certainly wasn't expecting such a bomb. The romance was flat, the sight gags old, the spoken humor just wasn't. This may not have been the worst movie I've ever seen but it comes close. || Label :  0\n",
      "============================================================\n",
      "============================================================\n",
      "The movie within the movie - a concept done many times in the history of cinema. It is accomplished here as well as in any.<br /><br />If you love Carmen, you'll love this version.<br /><br />If you love flamenco, you'll love this version.<br /><br />The plot of the classic opera is played out in the actual rehearsal of the opera by a flamenco troupe. The music is authentic. The direction wonderful.<br /><br />If you like dancing, you'll love this version.<br /><br />There is tragedy. There is passion. There is intrigue.<br /><br />There is...<br /><br />Carmen. || Label :  1\n",
      "============================================================\n",
      "============================================================\n",
      "I saw this recently on a faded old VHS tape, and remembered it dimly. Looking at it now, it seems charming.<br /><br />When it was first released, it was recognized by pretty much everyone as a spoof of coming out as a gay teenager. To hammer the point home, the mother is seen reading a paperback copy of \"1 Teenager In 10\", the most popular coming out book of the time. David Warner hams it up as the persecuting vampire hunter [= gay-hating evangelist], who is of course a self-loathing closet case. The list of sight gags and in-jokes that were included to make sure nobody missed the point would be too long to go into. The producers were having some good-natured fun, and hoping, no doubt, to lighten-up as well as to enlighten.<br /><br />But I have no clue how a teenage audience would look at this film, nowadays. In some places, where there is education and culture, the terrifying ordeals that gay teens had to go through are a thing of the past. But I'm sure there are plenty of dark, nasty corners of our continent where it's just as bad as it always was. || Label :  0\n",
      "============================================================\n",
      "============================================================\n",
      "Dwight Frye steals the show in this one as a foolish young man(who seems to be mentally handicapped) who gets himself blamed for vampire-like murders especially after he reveals his love for bats which he likes to stroke and give to unsuspecting friends as 'gifts'!. Besides all of that, there's an entertaining mystery tale involving the above mentioned murders. Underrated. || Label :  1\n",
      "============================================================\n",
      "============================================================\n",
      "Even though the plot was very well detailed,and the story line was understandable the fact that Steven Seagals voice was dubbed with some one else's through out most of the movie was distressing as you were unsure who was talking . There were many parts where he would start to talk in his deep raspy voice and then the next some one else's voice was doing the talking for him. I don't know the reason however if he had difficulty with his voice during production of the movie I think they could have re shot the events that did not contain his own voice when he had recovered. I have rated this movie 3 out of 10 based on the quality of the film. When one pays for a movie whether or not its at the theater or on DVD this movie was not worth the admission price that was charged. I have been a long time follower of Steven Seagal and all his movies that he has done over the past years.To date I think this is one of the worst ones we have seen yet || Label :  0\n",
      "============================================================\n"
     ]
    }
   ],
   "source": [
    "size_of_samp = 5\n",
    "rand_samples_to_check = np.random.randint(len(X_train), size=size_of_samp)\n",
    "\n",
    "for sample_num in rand_samples_to_check:\n",
    "    print ('============================================================')\n",
    "    print (X_train[sample_num], '|| Label : ', y_train[sample_num])\n",
    "    print ('============================================================')\n"
   ]
  },
  {
   "cell_type": "markdown",
   "metadata": {},
   "source": [
    "## **4. Menggambarkan Data**"
   ]
  },
  {
   "cell_type": "markdown",
   "metadata": {},
   "source": [
    "Pertama-tama kita akan menggambarkan bagaimana penyebaran banyaknya karakter per sample yang dimiliki setiap sample-nya."
   ]
  },
  {
   "cell_type": "code",
   "execution_count": 10,
   "metadata": {},
   "outputs": [
    {
     "data": {
      "image/png": "[encoded data removed]",
      "text/plain": [
       "<Figure size 1080x720 with 1 Axes>"
      ]
     },
     "metadata": {
      "needs_background": "light"
     },
     "output_type": "display_data"
    }
   ],
   "source": [
    "plt.figure(figsize=(15, 10))\n",
    "plt.hist([len(sample) for sample in list(X_train)], 50)\n",
    "plt.xlabel('Length of samples')\n",
    "plt.ylabel('Number of samples')\n",
    "plt.title('Sample length distribution')\n",
    "plt.show()"
   ]
  },
  {
   "cell_type": "markdown",
   "metadata": {},
   "source": [
    "Disini dapat diamati bahwa mayoritas sample memiliki 0 hingga 1000 karakter untuk setiap sample-nya. Selain itu, akan digambarkan beberapa kata yang sering muncul pada data training yang dimiliki."
   ]
  },
  {
   "cell_type": "code",
   "execution_count": 11,
   "metadata": {},
   "outputs": [
    {
     "data": {
      "image/png": "[encoded data removed]",
      "text/plain": [
       "<Figure size 2160x2160 with 1 Axes>"
      ]
     },
     "metadata": {
      "needs_background": "light"
     },
     "output_type": "display_data"
    }
   ],
   "source": [
    "kwargs = {\n",
    "    'ngram_range' : (1, 1),\n",
    "    'dtype' : 'int32',\n",
    "    'strip_accents' : 'unicode',\n",
    "    'decode_error' : 'replace',\n",
    "    'analyzer' : 'word'\n",
    "}\n",
    "\n",
    "vectorizer = CountVectorizer(**kwargs)\n",
    "vect_texts = vectorizer.fit_transform(list(X_train))\n",
    "all_ngrams = vectorizer.get_feature_names()\n",
    "num_ngrams = min(50, len(all_ngrams))\n",
    "all_counts = vect_texts.sum(axis=0).tolist()[0]\n",
    "\n",
    "all_ngrams, all_counts = zip(*[(n, c) for c, n in sorted(zip(all_counts, all_ngrams), reverse=True)])\n",
    "ngrams = all_ngrams[:num_ngrams]\n",
    "counts = all_counts[:num_ngrams]\n",
    "\n",
    "idx = np.arange(num_ngrams)\n",
    "\n",
    "plt.figure(figsize=(30, 30))\n",
    "plt.bar(idx, counts, width=0.8)\n",
    "plt.xlabel('N-grams')\n",
    "plt.ylabel('Frequencies')\n",
    "plt.title('Frequency distribution of ngrams')\n",
    "plt.xticks(idx, ngrams, rotation=45)\n",
    "plt.show()"
   ]
  },
  {
   "cell_type": "markdown",
   "metadata": {},
   "source": [
    "## **5. Preprocessing Data**"
   ]
  },
  {
   "cell_type": "markdown",
   "metadata": {},
   "source": [
    "Data yang telah dimiliki kemudian di olah kembali sehingga dapat lebih mudah dimengerti oleh sistem. Data text yang terdiri baik berbentuk kalimat maupun paragraf kemudian diubah ke dalam bentuk vektor. Proses pengubahan ini menggunakan algoritma **TF-IDF** yang kemudian dipilih beberapa fitur terbaik yang dimiliki setiap data (baik kalimat maupun paragraf)."
   ]
  },
  {
   "cell_type": "code",
   "execution_count": 12,
   "metadata": {},
   "outputs": [
    {
     "name": "stderr",
     "output_type": "stream",
     "text": [
      "C:\\Users\\Kevin\\Anaconda3\\lib\\site-packages\\sklearn\\feature_extraction\\text.py:1616: UserWarning: Only (<class 'numpy.float64'>, <class 'numpy.float32'>, <class 'numpy.float16'>) 'dtype' should be used. int32 'dtype' will be converted to np.float64.\n",
      "  UserWarning)\n"
     ]
    }
   ],
   "source": [
    "NGRAM_RANGE = (1, 2)\n",
    "TOP_K = 20000\n",
    "TOKEN_MODE = 'word'\n",
    "MIN_DOC_FREQ = 2\n",
    "\n",
    "kwargs = {\n",
    "    'ngram_range' : NGRAM_RANGE,\n",
    "    'dtype' : 'int32',\n",
    "    'strip_accents' : 'unicode',\n",
    "    'decode_error' : 'replace',\n",
    "    'analyzer' : TOKEN_MODE,\n",
    "    'min_df' : MIN_DOC_FREQ,\n",
    "}\n",
    "\n",
    "# Learn Vocab from train texts and vectorize train and test sets\n",
    "tfidf_vectorizer = TfidfVectorizer(**kwargs)\n",
    "\n",
    "x_train = tfidf_vectorizer.fit_transform(X_train)\n",
    "x_test = tfidf_vectorizer.transform(X_test)"
   ]
  },
  {
   "cell_type": "code",
   "execution_count": 13,
   "metadata": {},
   "outputs": [],
   "source": [
    "TOP_K = 20000\n",
    "\n",
    "# Select best k features, with feature importance measured by f_classif\n",
    "selector = SelectKBest(f_classif, k=min(TOP_K, x_train.shape[1]))\n",
    "\n",
    "selector.fit(x_train, y_train)\n",
    "\n",
    "X_train = selector.transform(x_train).astype('float32')\n",
    "X_test = selector.transform(x_test).astype('float32')"
   ]
  },
  {
   "cell_type": "markdown",
   "metadata": {},
   "source": [
    "## **6. Membuat Model Penglasifikasi**"
   ]
  },
  {
   "cell_type": "markdown",
   "metadata": {},
   "source": [
    "Selanjutnya akan dibuat sebuah model penglasifikasi yang nantinya akan dapat menglasifikasikan sebuah kalimat atau paragraf ke dalam sentimen positif ataupun negatif. Model yang akan dibuat menggunakan algoritma Neural Network yang terdiri dari 1 hidden layer dan 1 output layer."
   ]
  },
  {
   "cell_type": "code",
   "execution_count": 14,
   "metadata": {},
   "outputs": [
    {
     "name": "stdout",
     "output_type": "stream",
     "text": [
      "WARNING:tensorflow:From C:\\Users\\Kevin\\Anaconda3\\lib\\site-packages\\tensorflow\\python\\ops\\init_ops.py:1251: calling VarianceScaling.__init__ (from tensorflow.python.ops.init_ops) with dtype is deprecated and will be removed in a future version.\n",
      "Instructions for updating:\n",
      "Call initializer instance with the dtype argument instead of passing it to the constructor\n"
     ]
    }
   ],
   "source": [
    "dropout_rate = 0.2               # nilai untuk menghidari overfit pada data train\n",
    "input_shape = X_train.shape[1:]  # (20000,)\n",
    "layers = 2                       # 1 hidden layer dan 1 output layer\n",
    "units = 64                       # 64 unit di hidden layer\n",
    "last_units = 1                   # 1 unit di output layer\n",
    "activation = 'sigmoid'           # sigmoid mengembalikan nilai di range [0,1]\n",
    "\n",
    "model = models.Sequential()\n",
    "\n",
    "model.add(Dropout(rate=dropout_rate, input_shape=input_shape))\n",
    "\n",
    "for _ in range(layers-1):\n",
    "    model.add(Dense(units=units, activation='relu'))\n",
    "    model.add(Dropout(rate=dropout_rate))\n",
    "\n",
    "model.add(Dense(units=last_units, activation=activation))"
   ]
  },
  {
   "cell_type": "markdown",
   "metadata": {},
   "source": [
    "Setelah menyelesaikan arsitektur model yang ingin dibangun, dilanjutkan dengan menentukan rumus perhitungan loss yang akan digunakan, nilai learning rate yang akan digunakan dan juga algoritma optimizer yang digunakan. Dalam hal ini, akan digunakan rumus loss yaitu **Binary Cross Entropy** dengan perhitungan sebagai berikut : \n",
    "\n",
    "<img src=\"Binary Cross Entropy Loss Function.png\" style=\"width:300px\"/>\n",
    "\n",
    "Atau sebagai contoh sebagai berikut : \n",
    "\n",
    "<img src=\"Loss Function Diagram.png\" style=\"width:500px\"/>"
   ]
  },
  {
   "cell_type": "code",
   "execution_count": 15,
   "metadata": {},
   "outputs": [
    {
     "name": "stdout",
     "output_type": "stream",
     "text": [
      "WARNING:tensorflow:From C:\\Users\\Kevin\\Anaconda3\\lib\\site-packages\\tensorflow\\python\\ops\\nn_impl.py:180: add_dispatch_support.<locals>.wrapper (from tensorflow.python.ops.array_ops) is deprecated and will be removed in a future version.\n",
      "Instructions for updating:\n",
      "Use tf.where in 2.0, which has the same broadcast rule as np.where\n"
     ]
    }
   ],
   "source": [
    "loss = 'binary_crossentropy'\n",
    "learning_rate = 1e-3\n",
    "optimizer = tf.keras.optimizers.Adam(lr=learning_rate)\n",
    "\n",
    "model.compile(optimizer=optimizer, loss=loss, metrics=['acc'])"
   ]
  },
  {
   "cell_type": "markdown",
   "metadata": {},
   "source": [
    "Selanjutnya menambahkan callback yang berfungsi untuk menghentikan proses training. Disini, callback diatur supaya proses training berhenti apabila loss pada data validasi(test) tidak mengalami penurunan setelah 2 epoch."
   ]
  },
  {
   "cell_type": "code",
   "execution_count": 16,
   "metadata": {},
   "outputs": [],
   "source": [
    "callbacks = [tf.keras.callbacks.EarlyStopping(monitor='val_loss', patience=2)]"
   ]
  },
  {
   "cell_type": "markdown",
   "metadata": {},
   "source": [
    "Selanjutnya menentukan nilai epoch yang berarti banyaknya perulangan yang akan terjadi selama proses training berlangsung, dan nilai ukuran batch yang menentukan banyaknya data yang digunakan untuk setiap epoch. Kemudian dilakukan proses training dengan memanggil function fit."
   ]
  },
  {
   "cell_type": "code",
   "execution_count": 17,
   "metadata": {},
   "outputs": [
    {
     "name": "stdout",
     "output_type": "stream",
     "text": [
      "Train on 24321 samples, validate on 25000 samples\n",
      "Epoch 1/1000\n",
      "24321/24321 - 8s - loss: 0.4997 - acc: 0.7940 - val_loss: 0.3777 - val_acc: 0.8536\n",
      "Epoch 2/1000\n",
      "24321/24321 - 7s - loss: 0.2424 - acc: 0.9183 - val_loss: 0.3096 - val_acc: 0.8692\n",
      "Epoch 3/1000\n",
      "24321/24321 - 8s - loss: 0.1690 - acc: 0.9419 - val_loss: 0.2795 - val_acc: 0.8823\n",
      "Epoch 4/1000\n",
      "24321/24321 - 8s - loss: 0.1314 - acc: 0.9561 - val_loss: 0.2702 - val_acc: 0.8854\n",
      "Epoch 5/1000\n",
      "24321/24321 - 9s - loss: 0.1053 - acc: 0.9677 - val_loss: 0.2797 - val_acc: 0.8836\n",
      "Epoch 6/1000\n",
      "24321/24321 - 8s - loss: 0.0891 - acc: 0.9722 - val_loss: 0.2857 - val_acc: 0.8823\n"
     ]
    }
   ],
   "source": [
    "epochs = 1000\n",
    "batch_size = 128\n",
    "\n",
    "# Train and validate model\n",
    "history = model.fit(X_train, y_train, epochs=epochs, validation_data=(X_test, y_test),\n",
    "                    verbose=2, batch_size=batch_size, callbacks=callbacks)"
   ]
  },
  {
   "cell_type": "markdown",
   "metadata": {},
   "source": [
    "## **7. Evaluasi Model**"
   ]
  },
  {
   "cell_type": "markdown",
   "metadata": {},
   "source": [
    "Setelah proses training berhasil, maka akan ditampilkan akurasi yang diperoleh dan loss yang didapatkan apabila model digunakan pada data validasi."
   ]
  },
  {
   "cell_type": "code",
   "execution_count": 18,
   "metadata": {},
   "outputs": [
    {
     "name": "stdout",
     "output_type": "stream",
     "text": [
      "Validation accuracy: 0.8822799921035767\n",
      "Loss: 0.28574037791728973\n"
     ]
    }
   ],
   "source": [
    "# Print results\n",
    "history = history.history\n",
    "val_acc = history['val_acc'][-1]\n",
    "val_loss = history['val_loss'][-1]\n",
    "print ('Validation accuracy: {acc}\\nLoss: {loss}'.format(\n",
    "        acc=val_acc, loss=val_loss))"
   ]
  },
  {
   "cell_type": "markdown",
   "metadata": {},
   "source": [
    "## **8. Mencoba Model**"
   ]
  },
  {
   "cell_type": "markdown",
   "metadata": {},
   "source": [
    "Pertama- tama, akan dibuat sebuah function untuk dapat memudakan proses prediksi seperti ini."
   ]
  },
  {
   "cell_type": "code",
   "execution_count": 31,
   "metadata": {},
   "outputs": [],
   "source": [
    "def predict(test_str) :\n",
    "    str_ = tfidf_vectorizer.transform([test_str])\n",
    "    test_str = selector.transform(str_).astype('float32')\n",
    "    if model.predict(test_str) >= 0.5 : \n",
    "        return \"Positif\"\n",
    "    else :\n",
    "        return \"Negatif\""
   ]
  },
  {
   "cell_type": "markdown",
   "metadata": {},
   "source": [
    "Selanjutnya model dapat dicoba terhadap kalimat yang ingin diuji."
   ]
  },
  {
   "cell_type": "code",
   "execution_count": 29,
   "metadata": {},
   "outputs": [
    {
     "data": {
      "text/plain": [
       "'Positif'"
      ]
     },
     "execution_count": 29,
     "metadata": {},
     "output_type": "execute_result"
    }
   ],
   "source": [
    "new_test = \"I really like the movie.\"\n",
    "predict(new_test)"
   ]
  },
  {
   "cell_type": "code",
   "execution_count": 30,
   "metadata": {},
   "outputs": [
    {
     "data": {
      "text/plain": [
       "'Negatif'"
      ]
     },
     "execution_count": 30,
     "metadata": {},
     "output_type": "execute_result"
    }
   ],
   "source": [
    "new_test = \"The movie is really bad.\"\n",
    "predict(new_test)"
   ]
  },
  {
   "cell_type": "markdown",
   "metadata": {},
   "source": [
    "## **Referensi**"
   ]
  },
  {
   "cell_type": "markdown",
   "metadata": {},
   "source": [
    "[1] https://informatikalogi.com/term-weighting-tf-idf/\n",
    "\n",
    "[2] https://developers.google.com/machine-learning/guides/text-classification/step-3\n",
    "\n",
    "[3] https://www.kaggle.com/iarunava/google-text-classification-notebook\n",
    "\n",
    "Dataset :\n",
    "http://ai.stanford.edu/~amaas/data/sentiment/"
   ]
  }
 ],
 "metadata": {
  "kernelspec": {
   "display_name": "Python 3",
   "language": "python",
   "name": "python3"
  },
  "language_info": {
   "codemirror_mode": {
    "name": "ipython",
    "version": 3
   },
   "file_extension": ".py",
   "mimetype": "text/x-python",
   "name": "python",
   "nbconvert_exporter": "python",
   "pygments_lexer": "ipython3",
   "version": "3.7.0"
  }
 },
 "nbformat": 4,
 "nbformat_minor": 4
}
